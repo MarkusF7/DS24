{
 "cells": [
  {
   "cell_type": "markdown",
   "id": "654140a6-f680-439b-870a-222f6456a53a",
   "metadata": {},
   "source": [
    "Q2: Do the following exercise in a Jupyter Notebook (a GitHub Link would be the best): (12pt)\n",
    "*  Load the countries.csv directly via URL import into your panda data frame!\n",
    "*  Display descriptive statistics for the numerical column (count, mean, std, min, 25%, 50%, 75%, max) HINT: describe\n",
    "*  Show the last 4 rows of the data frame.\n",
    "*  Show all the rows of countries that have the EURO\n",
    "*  Show only name and Currency in a new data frame\n",
    "*  Show only the rows/countries that have more than 2000 GDP (it is in Milliarden USD Bruttoinlandsprodukt)\n",
    "*  Select all countries where with inhabitants between 50 and 150 Mio\n",
    "*  Calculate the GDP average (ignore the missing value)\n",
    "*  Calculate the GDP average (missing value treated as 0)\n",
    "*  Calculate the population density (population/area)  of all countries and add as new column\n",
    "*  Sort by country name alphabetically\n",
    "*  Create a new data frame from the original where the area is changed: all countries with > 1000000 get BIG and <= 1000000 get SMALL in the cell replaced!"
   ]
  },
  {
   "cell_type": "code",
   "execution_count": 5,
   "id": "3887be8b-50f6-453d-bd20-581fd870d37e",
   "metadata": {},
   "outputs": [
    {
     "name": "stdout",
     "output_type": "stream",
     "text": [
      "         Population          Area          GDP\n",
      "count  7.000000e+00  7.000000e+00     6.000000\n",
      "mean   8.086839e+07  2.926464e+06  2387.500000\n",
      "std    6.670195e+07  4.348507e+06  1532.497537\n",
      "min    2.393827e+07  3.619700e+04   744.000000\n",
      "25%    3.235604e+07  3.293615e+05  1596.250000\n",
      "50%    6.050172e+07  3.778350e+05  1824.000000\n",
      "75%    1.042833e+08  4.713910e+06  3062.000000\n",
      "max    2.083600e+08  9.984670e+06  4938.000000\n"
     ]
    }
   ],
   "source": [
    "#Display descriptive statistics for the numerical column \n",
    "import pandas as pd\n",
    "url = \"country.csv\"\n",
    "df = pd.read_csv(url)\n",
    "print(df.describe())"
   ]
  },
  {
   "cell_type": "code",
   "execution_count": 6,
   "id": "66d7da9c-2dcd-4a8e-a8dc-e5bcd77991a7",
   "metadata": {},
   "outputs": [
    {
     "name": "stdout",
     "output_type": "stream",
     "text": [
      "        Name  Population     Area     GDP Currency\n",
      "3      Italy    60501718   301338  1850.0      EUR\n",
      "4   Brazilia   208360000  8515770  1798.0     REAL\n",
      "5     Taiwan    23938272    36197   744.0      NTD\n",
      "6  Venezuela    28208977   912050     NaN      VED\n"
     ]
    }
   ],
   "source": [
    "#Show the last 4 rows of the data frame.\n",
    "import pandas as pd\n",
    "url = r\"country.csv\"\n",
    "df = pd.read_csv(url)\n",
    "print(df.tail(4))"
   ]
  },
  {
   "cell_type": "code",
   "execution_count": 7,
   "id": "d2f38c39-d4d8-4e7a-b228-30cacda47f59",
   "metadata": {},
   "outputs": [
    {
     "name": "stdout",
     "output_type": "stream",
     "text": [
      "      Name  Population    Area     GDP Currency\n",
      "0  Germany    82521653  357385  3466.0      EUR\n",
      "3    Italy    60501718  301338  1850.0      EUR\n"
     ]
    }
   ],
   "source": [
    "#Show all the rows of countries that have the EURO \n",
    "import pandas as pd\n",
    "url = r\"country.csv\"\n",
    "df = pd.read_csv(url)\n",
    "euro_countries = df[df['Currency'] == 'EUR']\n",
    "print(euro_countries)"
   ]
  },
  {
   "cell_type": "code",
   "execution_count": 8,
   "id": "815f9fe4-447a-4264-ac4e-12a2bbf77949",
   "metadata": {},
   "outputs": [
    {
     "name": "stdout",
     "output_type": "stream",
     "text": [
      "        Name Currency\n",
      "0    Germany      EUR\n",
      "1      Japan      YEN\n",
      "2     Canada      CAD\n",
      "3      Italy      EUR\n",
      "4   Brazilia     REAL\n",
      "5     Taiwan      NTD\n",
      "6  Venezuela      VED\n"
     ]
    }
   ],
   "source": [
    "#Show only name and Currency in a new data frame\n",
    "import pandas as pd\n",
    "url = r\"country.csv\"\n",
    "df = pd.read_csv(url)\n",
    "name_currency_df = df[['Name', 'Currency']]\n",
    "print(name_currency_df)\n"
   ]
  },
  {
   "cell_type": "code",
   "execution_count": 9,
   "id": "ac3c4a67-044a-46ca-8957-2f40f8780e8a",
   "metadata": {},
   "outputs": [
    {
     "name": "stdout",
     "output_type": "stream",
     "text": [
      "      Name  Population    Area     GDP Currency\n",
      "0  Germany    82521653  357385  3466.0      EUR\n",
      "1    Japan   126045000  377835  4938.0      YEN\n"
     ]
    }
   ],
   "source": [
    "#Show only the rows/countries that have more than 2000 GDP\n",
    "import pandas as pd\n",
    "url = r\"country.csv\"\n",
    "df = pd.read_csv(url)\n",
    "gdp_above_2000 = df[df['GDP'] > 2000]\n",
    "print(gdp_above_2000)"
   ]
  },
  {
   "cell_type": "code",
   "execution_count": 10,
   "id": "dc83c038-49b6-44b0-b6d6-56a3aff8fc08",
   "metadata": {},
   "outputs": [
    {
     "name": "stdout",
     "output_type": "stream",
     "text": [
      "      Name  Population    Area     GDP Currency\n",
      "0  Germany    82521653  357385  3466.0      EUR\n",
      "1    Japan   126045000  377835  4938.0      YEN\n",
      "3    Italy    60501718  301338  1850.0      EUR\n"
     ]
    }
   ],
   "source": [
    "#Select all countries where with inhabitants between 50 and 150 Mio\n",
    "import pandas as pd\n",
    "url = r\"country.csv\"\n",
    "df = pd.read_csv(url)\n",
    "population_between_50_and_150 = df[(df['Population'] >= 50000000) & (df['Population'] <= 150000000)]\n",
    "print(population_between_50_and_150)"
   ]
  },
  {
   "cell_type": "code",
   "execution_count": 11,
   "id": "b28472be-a7b2-401e-9851-f4914117f68d",
   "metadata": {},
   "outputs": [
    {
     "name": "stdout",
     "output_type": "stream",
     "text": [
      "GDP average (ignore missing values): 2387.5\n"
     ]
    }
   ],
   "source": [
    "#Calculate the GDP average (ignore the missing value)\n",
    "import pandas as pd\n",
    "url = r\"country.csv\"\n",
    "df = pd.read_csv(url)\n",
    "gdp_avg_ignore_missing = df['GDP'].mean()\n",
    "print(\"GDP average (ignore missing values):\", gdp_avg_ignore_missing)"
   ]
  },
  {
   "cell_type": "code",
   "execution_count": 12,
   "id": "e3a9ae0a-adbf-4bfa-ba62-4c479e5e89e1",
   "metadata": {},
   "outputs": [
    {
     "name": "stdout",
     "output_type": "stream",
     "text": [
      "GDP average (missing value treated as 0): 2046.4285714285713\n"
     ]
    }
   ],
   "source": [
    "#Calculate the GDP average (missing value treated as 0)\n",
    "import pandas as pd\n",
    "url = r\"country.csv\"\n",
    "df = pd.read_csv(url)\n",
    "gdp_avg_with_missing_zero = df['GDP'].fillna(0).mean()\n",
    "print(\"GDP average (missing value treated as 0):\", gdp_avg_with_missing_zero)"
   ]
  },
  {
   "cell_type": "code",
   "execution_count": 13,
   "id": "aec43137-16e6-4e26-bda4-ab3a2e973b3a",
   "metadata": {},
   "outputs": [
    {
     "name": "stdout",
     "output_type": "stream",
     "text": [
      "        Name  Population     Area     GDP Currency  Population Density\n",
      "0    Germany    82521653   357385  3466.0      EUR          230.904075\n",
      "1      Japan   126045000   377835  4938.0      YEN          333.597999\n",
      "2     Canada    36503097  9984670  1529.0      CAD            3.655914\n",
      "3      Italy    60501718   301338  1850.0      EUR          200.776928\n",
      "4   Brazilia   208360000  8515770  1798.0     REAL           24.467547\n",
      "5     Taiwan    23938272    36197   744.0      NTD          661.333039\n",
      "6  Venezuela    28208977   912050     NaN      VED           30.929200\n"
     ]
    }
   ],
   "source": [
    "#Calculate the population density (population/area)  of all countries and add as new column\n",
    "import pandas as pd\n",
    "url = r\"country.csv\"\n",
    "df = pd.read_csv(url)\n",
    "df['Population Density'] = df['Population'] / df['Area']\n",
    "print(df)"
   ]
  },
  {
   "cell_type": "code",
   "execution_count": 14,
   "id": "a35fc68e-cefd-40e2-b421-8e494f110642",
   "metadata": {},
   "outputs": [
    {
     "name": "stdout",
     "output_type": "stream",
     "text": [
      "        Name  Population     Area     GDP Currency\n",
      "4   Brazilia   208360000  8515770  1798.0     REAL\n",
      "2     Canada    36503097  9984670  1529.0      CAD\n",
      "0    Germany    82521653   357385  3466.0      EUR\n",
      "3      Italy    60501718   301338  1850.0      EUR\n",
      "1      Japan   126045000   377835  4938.0      YEN\n",
      "5     Taiwan    23938272    36197   744.0      NTD\n",
      "6  Venezuela    28208977   912050     NaN      VED\n"
     ]
    }
   ],
   "source": [
    "#Sort by country name alphabetically\n",
    "import pandas as pd\n",
    "url = r\"country.csv\"\n",
    "df = pd.read_csv(url)\n",
    "df_sorted = df.sort_values(by='Name')\n",
    "print(df_sorted)"
   ]
  },
  {
   "cell_type": "code",
   "execution_count": 15,
   "id": "e1e86806-a07e-4352-be06-93d6ed60c2e8",
   "metadata": {},
   "outputs": [
    {
     "name": "stdout",
     "output_type": "stream",
     "text": [
      "        Name  Population   Area     GDP Currency\n",
      "0    Germany    82521653  SMALL  3466.0      EUR\n",
      "1      Japan   126045000  SMALL  4938.0      YEN\n",
      "2     Canada    36503097    BIG  1529.0      CAD\n",
      "3      Italy    60501718  SMALL  1850.0      EUR\n",
      "4   Brazilia   208360000    BIG  1798.0     REAL\n",
      "5     Taiwan    23938272  SMALL   744.0      NTD\n",
      "6  Venezuela    28208977  SMALL     NaN      VED\n"
     ]
    }
   ],
   "source": [
    "#Create a new data frame from the original where the area is changed: \n",
    "#all countries with > 1000000 get BIG and <= 1000000 get SMALL in the cell replaced!\n",
    "import pandas as pd\n",
    "url = r\"country.csv\"\n",
    "df = pd.read_csv(url)\n",
    "df['Area'] = df['Area'].apply(lambda x: 'BIG' if x > 1000000 else 'SMALL')\n",
    "print(df)"
   ]
  }
 ],
 "metadata": {
  "kernelspec": {
   "display_name": "Python 3 (ipykernel)",
   "language": "python",
   "name": "python3"
  },
  "language_info": {
   "codemirror_mode": {
    "name": "ipython",
    "version": 3
   },
   "file_extension": ".py",
   "mimetype": "text/x-python",
   "name": "python",
   "nbconvert_exporter": "python",
   "pygments_lexer": "ipython3",
   "version": "3.12.0"
  }
 },
 "nbformat": 4,
 "nbformat_minor": 5
}
